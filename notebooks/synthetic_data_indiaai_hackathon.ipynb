{
  "nbformat": 4,
  "nbformat_minor": 0,
  "metadata": {
    "colab": {
      "provenance": []
    },
    "kernelspec": {
      "name": "python3",
      "display_name": "Python 3"
    },
    "language_info": {
      "name": "python"
    }
  },
  "cells": [
    {
      "cell_type": "code",
      "source": [
        "import pandas as pd"
      ],
      "metadata": {
        "id": "xfhjx87NKI19"
      },
      "execution_count": null,
      "outputs": []
    },
    {
      "cell_type": "markdown",
      "source": [
        "## Prompts for Generating Synthetic Messages"
      ],
      "metadata": {
        "id": "P51m82fHAqJR"
      }
    },
    {
      "cell_type": "code",
      "execution_count": null,
      "metadata": {
        "id": "tdO_-zGU_YR7"
      },
      "outputs": [],
      "source": [
        "GENERATE_EXAMPLES_PROMPT_2 = \"\"\"\n",
        "You are a helpful assistant. Your job is to generate messages that resemble a given message or list of messages.\n",
        "The messages that will be provided to you are from a dataset that contains cyber crime related information. These\n",
        "messages have been sent by people in India to the Indian cyber cell, reporting a cyber crime related incident that\n",
        "happened with them. Each of these messages have been categorised into 15 categories. These messages are then further\n",
        "classified into subcategories.\n",
        "Your task is to generate more messages that resemble the given messages, and which belong to the same category and\n",
        "subcategory as the given messages. Follow the following instuctions:\n",
        "1. Go over the provided messages.\n",
        "2. Observe the category and subcategory provided.\n",
        "3. Generate 50 messages that are similar to the messages provided. These messages should be in simple English, similar to\n",
        "the provided messages, or they can be in Hinglish, which is Hindi mixed with English. These messages should resemble how\n",
        "Indian people write, mixing some Hindi words in English.\n",
        "Out of the 50 generated messages, 25 should be in English and 25 should be in Hinglish.\n",
        "4. Check the generated messages and observe whether they resemble the provided messages.\n",
        "5. Make sure all the generated messages belong to the provided category and subcategory.\n",
        "6. Make sure all the generated messages are different from each other.\n",
        "Important: Messages should not be very similar to each other. They should have some differences.\n",
        "7. Make sure 25 messages are in English and 25 messages are in Hinglish.\n",
        "\n",
        "Generate output in the following format:\n",
        "*** Messages\n",
        "### Message 1\n",
        "### Message 2\n",
        ".\n",
        ".\n",
        ".\n",
        "### Message 50\n",
        "\n",
        "Following input is provided for this task\n",
        "** Category: {category}\n",
        "** Sub-category: {subcategory}\n",
        "** Sample messages: {sample_messages}\n",
        "\"\"\""
      ]
    },
    {
      "cell_type": "code",
      "source": [
        "GENERATE_EXAMPLES_PROMPT = \"\"\"\n",
        "You are a helpful assistant. Your job is to generate messages that resemble a given message or list of messages.\n",
        "The messages that will be provided to you are from a dataset that contains cyber crime related information. These\n",
        "messages have been sent by people in India to the Indian cyber cell, reporting a cyber crime related incident that\n",
        "happened with them. Each of these messages have been categorised into 15 categories. These messages are then further\n",
        "classified into subcategories.\n",
        "Your task is to generate more messages that resemble the given messages, and which belong to the same category and\n",
        "subcategory as the given messages. Follow the following instuctions:\n",
        "1. Go over the provided messages.\n",
        "2. Observe the category and subcategory provided.\n",
        "3. Generate 50 messages that are similar to the messages provided. These messages should be in simple English, similar to\n",
        "the provided messages, or they can be in Hinglish, which is Hindi mixed with English. These messages should resemble how\n",
        "Indian people write, mixing some Hindi words in English.\n",
        "4. Check the generated messages and observe whether they resemble the provided messages.\n",
        "5. Make sure all the generated messages belong to the provided category and subcategory.\n",
        "\n",
        "Generate output in the following format:\n",
        "*** Messages\n",
        "### Message 1\n",
        "### Message 2\n",
        ".\n",
        ".\n",
        ".\n",
        "### Message 50\n",
        "\n",
        "Following input is provided for this task\n",
        "** Category: {category}\n",
        "** Sub-category: {subcategory}\n",
        "** Sample messages: {sample_messages}\n",
        "\"\"\""
      ],
      "metadata": {
        "id": "jXJzP8u9PI_C"
      },
      "execution_count": null,
      "outputs": []
    },
    {
      "cell_type": "code",
      "source": [
        "%pip install -qU langchain-openai"
      ],
      "metadata": {
        "colab": {
          "base_uri": "https://localhost:8080/"
        },
        "id": "nxoQzWVJIX27",
        "outputId": "85cbce24-6495-4628-be73-79232782e599"
      },
      "execution_count": null,
      "outputs": [
        {
          "output_type": "stream",
          "name": "stdout",
          "text": [
            "\u001b[2K     \u001b[90m━━━━━━━━━━━━━━━━━━━━━━━━━━━━━━━━━━━━━━━━\u001b[0m \u001b[32m50.6/50.6 kB\u001b[0m \u001b[31m3.2 MB/s\u001b[0m eta \u001b[36m0:00:00\u001b[0m\n",
            "\u001b[2K   \u001b[90m━━━━━━━━━━━━━━━━━━━━━━━━━━━━━━━━━━━━━━━━\u001b[0m \u001b[32m49.9/49.9 kB\u001b[0m \u001b[31m3.1 MB/s\u001b[0m eta \u001b[36m0:00:00\u001b[0m\n",
            "\u001b[2K   \u001b[90m━━━━━━━━━━━━━━━━━━━━━━━━━━━━━━━━━━━━━━━━\u001b[0m \u001b[32m407.7/407.7 kB\u001b[0m \u001b[31m10.8 MB/s\u001b[0m eta \u001b[36m0:00:00\u001b[0m\n",
            "\u001b[2K   \u001b[90m━━━━━━━━━━━━━━━━━━━━━━━━━━━━━━━━━━━━━━━━\u001b[0m \u001b[32m386.9/386.9 kB\u001b[0m \u001b[31m23.9 MB/s\u001b[0m eta \u001b[36m0:00:00\u001b[0m\n",
            "\u001b[2K   \u001b[90m━━━━━━━━━━━━━━━━━━━━━━━━━━━━━━━━━━━━━━━━\u001b[0m \u001b[32m1.2/1.2 MB\u001b[0m \u001b[31m48.7 MB/s\u001b[0m eta \u001b[36m0:00:00\u001b[0m\n",
            "\u001b[2K   \u001b[90m━━━━━━━━━━━━━━━━━━━━━━━━━━━━━━━━━━━━━━━━\u001b[0m \u001b[32m76.4/76.4 kB\u001b[0m \u001b[31m5.3 MB/s\u001b[0m eta \u001b[36m0:00:00\u001b[0m\n",
            "\u001b[2K   \u001b[90m━━━━━━━━━━━━━━━━━━━━━━━━━━━━━━━━━━━━━━━━\u001b[0m \u001b[32m78.0/78.0 kB\u001b[0m \u001b[31m5.5 MB/s\u001b[0m eta \u001b[36m0:00:00\u001b[0m\n",
            "\u001b[2K   \u001b[90m━━━━━━━━━━━━━━━━━━━━━━━━━━━━━━━━━━━━━━━━\u001b[0m \u001b[32m325.2/325.2 kB\u001b[0m \u001b[31m22.5 MB/s\u001b[0m eta \u001b[36m0:00:00\u001b[0m\n",
            "\u001b[2K   \u001b[90m━━━━━━━━━━━━━━━━━━━━━━━━━━━━━━━━━━━━━━━━\u001b[0m \u001b[32m296.9/296.9 kB\u001b[0m \u001b[31m19.0 MB/s\u001b[0m eta \u001b[36m0:00:00\u001b[0m\n",
            "\u001b[2K   \u001b[90m━━━━━━━━━━━━━━━━━━━━━━━━━━━━━━━━━━━━━━━━\u001b[0m \u001b[32m144.5/144.5 kB\u001b[0m \u001b[31m10.4 MB/s\u001b[0m eta \u001b[36m0:00:00\u001b[0m\n",
            "\u001b[2K   \u001b[90m━━━━━━━━━━━━━━━━━━━━━━━━━━━━━━━━━━━━━━━━\u001b[0m \u001b[32m54.5/54.5 kB\u001b[0m \u001b[31m3.9 MB/s\u001b[0m eta \u001b[36m0:00:00\u001b[0m\n",
            "\u001b[2K   \u001b[90m━━━━━━━━━━━━━━━━━━━━━━━━━━━━━━━━━━━━━━━━\u001b[0m \u001b[32m58.3/58.3 kB\u001b[0m \u001b[31m4.0 MB/s\u001b[0m eta \u001b[36m0:00:00\u001b[0m\n",
            "\u001b[?25h"
          ]
        }
      ]
    },
    {
      "cell_type": "markdown",
      "source": [
        "## Mount Google Drive"
      ],
      "metadata": {
        "id": "Ut1IuDQOlc6c"
      }
    },
    {
      "cell_type": "code",
      "source": [
        "from google.colab import drive\n",
        "drive.mount('/content/drive')"
      ],
      "metadata": {
        "colab": {
          "base_uri": "https://localhost:8080/"
        },
        "id": "HB3-AXFGKAsB",
        "outputId": "4442a52b-7dc3-4e5f-c4e7-852731f16408"
      },
      "execution_count": null,
      "outputs": [
        {
          "output_type": "stream",
          "name": "stdout",
          "text": [
            "Mounted at /content/drive\n"
          ]
        }
      ]
    },
    {
      "cell_type": "code",
      "source": [
        "%cd /content/drive/My Drive/"
      ],
      "metadata": {
        "colab": {
          "base_uri": "https://localhost:8080/"
        },
        "id": "35UkoAx0KMct",
        "outputId": "96b358c5-45b7-45d8-94c1-e0bbc40bc174"
      },
      "execution_count": null,
      "outputs": [
        {
          "output_type": "stream",
          "name": "stdout",
          "text": [
            "/content/drive/My Drive\n"
          ]
        }
      ]
    },
    {
      "cell_type": "markdown",
      "source": [
        "## Load the Data"
      ],
      "metadata": {
        "id": "Yv1EzN3xlk-l"
      }
    },
    {
      "cell_type": "code",
      "source": [
        "df = pd.read_csv(\"train.csv\")\n",
        "test_df = pd.read_csv(\"test.csv\")\n",
        "\n",
        "df.head()"
      ],
      "metadata": {
        "colab": {
          "base_uri": "https://localhost:8080/",
          "height": 206
        },
        "id": "lDnfdQdaKE1p",
        "outputId": "66e98d64-649f-40c0-aa5a-6e2478a721f4"
      },
      "execution_count": null,
      "outputs": [
        {
          "output_type": "execute_result",
          "data": {
            "text/plain": [
              "                                category                       sub_category  \\\n",
              "0  Online and Social Media Related Crime  Cyber Bullying  Stalking  Sexting   \n",
              "1                 Online Financial Fraud                  Fraud CallVishing   \n",
              "2               Online Gambling  Betting           Online Gambling  Betting   \n",
              "3  Online and Social Media Related Crime                   Online Job Fraud   \n",
              "4                 Online Financial Fraud                  Fraud CallVishing   \n",
              "\n",
              "                                  crimeaditionalinfo  \n",
              "0  I had continue received random calls and abusi...  \n",
              "1  The above fraudster is continuously messaging ...  \n",
              "2  He is acting like a police and demanding for m...  \n",
              "3  In apna Job I have applied for job interview f...  \n",
              "4  I received a call from lady stating that she w...  "
            ],
            "text/html": [
              "\n",
              "  <div id=\"df-f584494e-85b9-4b60-9dc1-fa5dfd30fc4f\" class=\"colab-df-container\">\n",
              "    <div>\n",
              "<style scoped>\n",
              "    .dataframe tbody tr th:only-of-type {\n",
              "        vertical-align: middle;\n",
              "    }\n",
              "\n",
              "    .dataframe tbody tr th {\n",
              "        vertical-align: top;\n",
              "    }\n",
              "\n",
              "    .dataframe thead th {\n",
              "        text-align: right;\n",
              "    }\n",
              "</style>\n",
              "<table border=\"1\" class=\"dataframe\">\n",
              "  <thead>\n",
              "    <tr style=\"text-align: right;\">\n",
              "      <th></th>\n",
              "      <th>category</th>\n",
              "      <th>sub_category</th>\n",
              "      <th>crimeaditionalinfo</th>\n",
              "    </tr>\n",
              "  </thead>\n",
              "  <tbody>\n",
              "    <tr>\n",
              "      <th>0</th>\n",
              "      <td>Online and Social Media Related Crime</td>\n",
              "      <td>Cyber Bullying  Stalking  Sexting</td>\n",
              "      <td>I had continue received random calls and abusi...</td>\n",
              "    </tr>\n",
              "    <tr>\n",
              "      <th>1</th>\n",
              "      <td>Online Financial Fraud</td>\n",
              "      <td>Fraud CallVishing</td>\n",
              "      <td>The above fraudster is continuously messaging ...</td>\n",
              "    </tr>\n",
              "    <tr>\n",
              "      <th>2</th>\n",
              "      <td>Online Gambling  Betting</td>\n",
              "      <td>Online Gambling  Betting</td>\n",
              "      <td>He is acting like a police and demanding for m...</td>\n",
              "    </tr>\n",
              "    <tr>\n",
              "      <th>3</th>\n",
              "      <td>Online and Social Media Related Crime</td>\n",
              "      <td>Online Job Fraud</td>\n",
              "      <td>In apna Job I have applied for job interview f...</td>\n",
              "    </tr>\n",
              "    <tr>\n",
              "      <th>4</th>\n",
              "      <td>Online Financial Fraud</td>\n",
              "      <td>Fraud CallVishing</td>\n",
              "      <td>I received a call from lady stating that she w...</td>\n",
              "    </tr>\n",
              "  </tbody>\n",
              "</table>\n",
              "</div>\n",
              "    <div class=\"colab-df-buttons\">\n",
              "\n",
              "  <div class=\"colab-df-container\">\n",
              "    <button class=\"colab-df-convert\" onclick=\"convertToInteractive('df-f584494e-85b9-4b60-9dc1-fa5dfd30fc4f')\"\n",
              "            title=\"Convert this dataframe to an interactive table.\"\n",
              "            style=\"display:none;\">\n",
              "\n",
              "  <svg xmlns=\"http://www.w3.org/2000/svg\" height=\"24px\" viewBox=\"0 -960 960 960\">\n",
              "    <path d=\"M120-120v-720h720v720H120Zm60-500h600v-160H180v160Zm220 220h160v-160H400v160Zm0 220h160v-160H400v160ZM180-400h160v-160H180v160Zm440 0h160v-160H620v160ZM180-180h160v-160H180v160Zm440 0h160v-160H620v160Z\"/>\n",
              "  </svg>\n",
              "    </button>\n",
              "\n",
              "  <style>\n",
              "    .colab-df-container {\n",
              "      display:flex;\n",
              "      gap: 12px;\n",
              "    }\n",
              "\n",
              "    .colab-df-convert {\n",
              "      background-color: #E8F0FE;\n",
              "      border: none;\n",
              "      border-radius: 50%;\n",
              "      cursor: pointer;\n",
              "      display: none;\n",
              "      fill: #1967D2;\n",
              "      height: 32px;\n",
              "      padding: 0 0 0 0;\n",
              "      width: 32px;\n",
              "    }\n",
              "\n",
              "    .colab-df-convert:hover {\n",
              "      background-color: #E2EBFA;\n",
              "      box-shadow: 0px 1px 2px rgba(60, 64, 67, 0.3), 0px 1px 3px 1px rgba(60, 64, 67, 0.15);\n",
              "      fill: #174EA6;\n",
              "    }\n",
              "\n",
              "    .colab-df-buttons div {\n",
              "      margin-bottom: 4px;\n",
              "    }\n",
              "\n",
              "    [theme=dark] .colab-df-convert {\n",
              "      background-color: #3B4455;\n",
              "      fill: #D2E3FC;\n",
              "    }\n",
              "\n",
              "    [theme=dark] .colab-df-convert:hover {\n",
              "      background-color: #434B5C;\n",
              "      box-shadow: 0px 1px 3px 1px rgba(0, 0, 0, 0.15);\n",
              "      filter: drop-shadow(0px 1px 2px rgba(0, 0, 0, 0.3));\n",
              "      fill: #FFFFFF;\n",
              "    }\n",
              "  </style>\n",
              "\n",
              "    <script>\n",
              "      const buttonEl =\n",
              "        document.querySelector('#df-f584494e-85b9-4b60-9dc1-fa5dfd30fc4f button.colab-df-convert');\n",
              "      buttonEl.style.display =\n",
              "        google.colab.kernel.accessAllowed ? 'block' : 'none';\n",
              "\n",
              "      async function convertToInteractive(key) {\n",
              "        const element = document.querySelector('#df-f584494e-85b9-4b60-9dc1-fa5dfd30fc4f');\n",
              "        const dataTable =\n",
              "          await google.colab.kernel.invokeFunction('convertToInteractive',\n",
              "                                                    [key], {});\n",
              "        if (!dataTable) return;\n",
              "\n",
              "        const docLinkHtml = 'Like what you see? Visit the ' +\n",
              "          '<a target=\"_blank\" href=https://colab.research.google.com/notebooks/data_table.ipynb>data table notebook</a>'\n",
              "          + ' to learn more about interactive tables.';\n",
              "        element.innerHTML = '';\n",
              "        dataTable['output_type'] = 'display_data';\n",
              "        await google.colab.output.renderOutput(dataTable, element);\n",
              "        const docLink = document.createElement('div');\n",
              "        docLink.innerHTML = docLinkHtml;\n",
              "        element.appendChild(docLink);\n",
              "      }\n",
              "    </script>\n",
              "  </div>\n",
              "\n",
              "\n",
              "<div id=\"df-7c806d9f-cb05-41cf-af57-aac7be3dbf01\">\n",
              "  <button class=\"colab-df-quickchart\" onclick=\"quickchart('df-7c806d9f-cb05-41cf-af57-aac7be3dbf01')\"\n",
              "            title=\"Suggest charts\"\n",
              "            style=\"display:none;\">\n",
              "\n",
              "<svg xmlns=\"http://www.w3.org/2000/svg\" height=\"24px\"viewBox=\"0 0 24 24\"\n",
              "     width=\"24px\">\n",
              "    <g>\n",
              "        <path d=\"M19 3H5c-1.1 0-2 .9-2 2v14c0 1.1.9 2 2 2h14c1.1 0 2-.9 2-2V5c0-1.1-.9-2-2-2zM9 17H7v-7h2v7zm4 0h-2V7h2v10zm4 0h-2v-4h2v4z\"/>\n",
              "    </g>\n",
              "</svg>\n",
              "  </button>\n",
              "\n",
              "<style>\n",
              "  .colab-df-quickchart {\n",
              "      --bg-color: #E8F0FE;\n",
              "      --fill-color: #1967D2;\n",
              "      --hover-bg-color: #E2EBFA;\n",
              "      --hover-fill-color: #174EA6;\n",
              "      --disabled-fill-color: #AAA;\n",
              "      --disabled-bg-color: #DDD;\n",
              "  }\n",
              "\n",
              "  [theme=dark] .colab-df-quickchart {\n",
              "      --bg-color: #3B4455;\n",
              "      --fill-color: #D2E3FC;\n",
              "      --hover-bg-color: #434B5C;\n",
              "      --hover-fill-color: #FFFFFF;\n",
              "      --disabled-bg-color: #3B4455;\n",
              "      --disabled-fill-color: #666;\n",
              "  }\n",
              "\n",
              "  .colab-df-quickchart {\n",
              "    background-color: var(--bg-color);\n",
              "    border: none;\n",
              "    border-radius: 50%;\n",
              "    cursor: pointer;\n",
              "    display: none;\n",
              "    fill: var(--fill-color);\n",
              "    height: 32px;\n",
              "    padding: 0;\n",
              "    width: 32px;\n",
              "  }\n",
              "\n",
              "  .colab-df-quickchart:hover {\n",
              "    background-color: var(--hover-bg-color);\n",
              "    box-shadow: 0 1px 2px rgba(60, 64, 67, 0.3), 0 1px 3px 1px rgba(60, 64, 67, 0.15);\n",
              "    fill: var(--button-hover-fill-color);\n",
              "  }\n",
              "\n",
              "  .colab-df-quickchart-complete:disabled,\n",
              "  .colab-df-quickchart-complete:disabled:hover {\n",
              "    background-color: var(--disabled-bg-color);\n",
              "    fill: var(--disabled-fill-color);\n",
              "    box-shadow: none;\n",
              "  }\n",
              "\n",
              "  .colab-df-spinner {\n",
              "    border: 2px solid var(--fill-color);\n",
              "    border-color: transparent;\n",
              "    border-bottom-color: var(--fill-color);\n",
              "    animation:\n",
              "      spin 1s steps(1) infinite;\n",
              "  }\n",
              "\n",
              "  @keyframes spin {\n",
              "    0% {\n",
              "      border-color: transparent;\n",
              "      border-bottom-color: var(--fill-color);\n",
              "      border-left-color: var(--fill-color);\n",
              "    }\n",
              "    20% {\n",
              "      border-color: transparent;\n",
              "      border-left-color: var(--fill-color);\n",
              "      border-top-color: var(--fill-color);\n",
              "    }\n",
              "    30% {\n",
              "      border-color: transparent;\n",
              "      border-left-color: var(--fill-color);\n",
              "      border-top-color: var(--fill-color);\n",
              "      border-right-color: var(--fill-color);\n",
              "    }\n",
              "    40% {\n",
              "      border-color: transparent;\n",
              "      border-right-color: var(--fill-color);\n",
              "      border-top-color: var(--fill-color);\n",
              "    }\n",
              "    60% {\n",
              "      border-color: transparent;\n",
              "      border-right-color: var(--fill-color);\n",
              "    }\n",
              "    80% {\n",
              "      border-color: transparent;\n",
              "      border-right-color: var(--fill-color);\n",
              "      border-bottom-color: var(--fill-color);\n",
              "    }\n",
              "    90% {\n",
              "      border-color: transparent;\n",
              "      border-bottom-color: var(--fill-color);\n",
              "    }\n",
              "  }\n",
              "</style>\n",
              "\n",
              "  <script>\n",
              "    async function quickchart(key) {\n",
              "      const quickchartButtonEl =\n",
              "        document.querySelector('#' + key + ' button');\n",
              "      quickchartButtonEl.disabled = true;  // To prevent multiple clicks.\n",
              "      quickchartButtonEl.classList.add('colab-df-spinner');\n",
              "      try {\n",
              "        const charts = await google.colab.kernel.invokeFunction(\n",
              "            'suggestCharts', [key], {});\n",
              "      } catch (error) {\n",
              "        console.error('Error during call to suggestCharts:', error);\n",
              "      }\n",
              "      quickchartButtonEl.classList.remove('colab-df-spinner');\n",
              "      quickchartButtonEl.classList.add('colab-df-quickchart-complete');\n",
              "    }\n",
              "    (() => {\n",
              "      let quickchartButtonEl =\n",
              "        document.querySelector('#df-7c806d9f-cb05-41cf-af57-aac7be3dbf01 button');\n",
              "      quickchartButtonEl.style.display =\n",
              "        google.colab.kernel.accessAllowed ? 'block' : 'none';\n",
              "    })();\n",
              "  </script>\n",
              "</div>\n",
              "\n",
              "    </div>\n",
              "  </div>\n"
            ],
            "application/vnd.google.colaboratory.intrinsic+json": {
              "type": "dataframe",
              "variable_name": "df",
              "summary": "{\n  \"name\": \"df\",\n  \"rows\": 93686,\n  \"fields\": [\n    {\n      \"column\": \"category\",\n      \"properties\": {\n        \"dtype\": \"category\",\n        \"num_unique_values\": 15,\n        \"samples\": [\n          \"Hacking  Damage to computercomputer system etc\",\n          \"Child Pornography CPChild Sexual Abuse Material CSAM\",\n          \"Online and Social Media Related Crime\"\n        ],\n        \"semantic_type\": \"\",\n        \"description\": \"\"\n      }\n    },\n    {\n      \"column\": \"sub_category\",\n      \"properties\": {\n        \"dtype\": \"category\",\n        \"num_unique_values\": 35,\n        \"samples\": [\n          \"Online Trafficking\",\n          \"FakeImpersonating Profile\",\n          \"Tampering with computer source documents\"\n        ],\n        \"semantic_type\": \"\",\n        \"description\": \"\"\n      }\n    },\n    {\n      \"column\": \"crimeaditionalinfo\",\n      \"properties\": {\n        \"dtype\": \"string\",\n        \"num_unique_values\": 85013,\n        \"samples\": [\n          \"I got a call from this unknown number and the person was asking about GPAY and transfer  k to his friend I have disconnected the call and not paid any amount I have also called to  to report the same I have blocked the number as of now but i am sure it was fraudulent and malicious call\",\n          \"My friend mentioned something like this happened to them a few months ago, but I thought it was a one-off. Then, suddenly, I got this weird notification asking me to update my password, but the message didn\\u2019t look like the usual ones I receive from the app. It looked a bit off. It\\u2019s hard to explain, but it felt like someone was inside my account, doing things while I wasn\\u2019t even online. The more I tried to fix it, the more problems came up. My social media was notifiction, and then I got locked out of everything. The worst part is, I don\\u2019t even know who to trust anymore. Friends, family, everyone\\u2019s acting strange. It\\u2019s affecting my relationships and my mental health. Even my phone isn\\u2019t working right anymore. It\\u2019s so stange how everything just fell apart after that one email.\",\n          \"\\r\\nTHEY FRAUD ME IN THE NAME OF INDIAN ARMY OFFICERS VIA PHONEPE TRANSACTIONS FARUD CALLING FROM BELOW GIVEN NUMBER    FRAUD AMOUNT \\r\\n \\r\\n\"\n        ],\n        \"semantic_type\": \"\",\n        \"description\": \"\"\n      }\n    }\n  ]\n}"
            }
          },
          "metadata": {},
          "execution_count": 9
        }
      ]
    },
    {
      "cell_type": "code",
      "source": [
        "category_set = list(set(list(df[\"category\"])))\n",
        "subcategory_set = list(set(list(df[\"sub_category\"])))"
      ],
      "metadata": {
        "id": "d1STvpbkKSoI"
      },
      "execution_count": null,
      "outputs": []
    },
    {
      "cell_type": "code",
      "source": [
        "from collections import defaultdict\n",
        "category_to_subcategory_map = defaultdict(set)"
      ],
      "metadata": {
        "id": "PzKe8gASKScw"
      },
      "execution_count": null,
      "outputs": []
    },
    {
      "cell_type": "code",
      "source": [
        "for index, row in df.iterrows():\n",
        "  category = row.category\n",
        "  subcategory = row.sub_category\n",
        "\n",
        "  category_to_subcategory_map[category].add(subcategory)"
      ],
      "metadata": {
        "id": "BG1ipsWvKYtN"
      },
      "execution_count": null,
      "outputs": []
    },
    {
      "cell_type": "code",
      "source": [
        "category_count = defaultdict(int)\n",
        "subcategory_count = defaultdict(int)\n",
        "\n",
        "for index, row in df.iterrows():\n",
        "  category = row.category\n",
        "  subcategory = row.sub_category\n",
        "\n",
        "  category_count[category] += 1\n",
        "  subcategory_count[subcategory] += 1"
      ],
      "metadata": {
        "id": "-YhCXXs5KgsB"
      },
      "execution_count": null,
      "outputs": []
    },
    {
      "cell_type": "code",
      "source": [
        "category_count"
      ],
      "metadata": {
        "colab": {
          "base_uri": "https://localhost:8080/"
        },
        "id": "481jq7TfS1ox",
        "outputId": "721870ef-4ac2-4d2d-ac96-08af629957c2"
      },
      "execution_count": null,
      "outputs": [
        {
          "output_type": "execute_result",
          "data": {
            "text/plain": [
              "defaultdict(int,\n",
              "            {'Online and Social Media Related Crime': 12140,\n",
              "             'Online Financial Fraud': 57434,\n",
              "             'Online Gambling  Betting': 444,\n",
              "             'RapeGang Rape RGRSexually Abusive Content': 2822,\n",
              "             'Any Other Cyber Crime': 10878,\n",
              "             'Cyber Attack/ Dependent Crimes': 3608,\n",
              "             'Cryptocurrency Crime': 480,\n",
              "             'Sexually Explicit Act': 1552,\n",
              "             'Sexually Obscene material': 1838,\n",
              "             'Hacking  Damage to computercomputer system etc': 1710,\n",
              "             'Cyber Terrorism': 161,\n",
              "             'Child Pornography CPChild Sexual Abuse Material CSAM': 379,\n",
              "             'Online Cyber Trafficking': 183,\n",
              "             'Ransomware': 56,\n",
              "             'Report Unlawful Content': 1})"
            ]
          },
          "metadata": {},
          "execution_count": 53
        }
      ]
    },
    {
      "cell_type": "code",
      "source": [],
      "metadata": {
        "id": "nhzlvjacUSb1"
      },
      "execution_count": null,
      "outputs": []
    },
    {
      "cell_type": "code",
      "source": [
        "subcategory_count"
      ],
      "metadata": {
        "colab": {
          "base_uri": "https://localhost:8080/"
        },
        "id": "pbBmImyrUAOx",
        "outputId": "e92d70ce-35be-406b-b0f3-1e87e3cd376a"
      },
      "execution_count": null,
      "outputs": [
        {
          "output_type": "execute_result",
          "data": {
            "text/plain": [
              "defaultdict(int,\n",
              "            {'Cyber Bullying  Stalking  Sexting': 4089,\n",
              "             'Fraud CallVishing': 5803,\n",
              "             'Online Gambling  Betting': 444,\n",
              "             'Online Job Fraud': 912,\n",
              "             'UPI Related Frauds': 26856,\n",
              "             'Internet Banking Related Fraud': 8872,\n",
              "             nan: 6591,\n",
              "             'Other': 10878,\n",
              "             'Profile Hacking Identity Theft': 2073,\n",
              "             'DebitCredit Card FraudSim Swap Fraud': 10805,\n",
              "             'EWallet Related Fraud': 4047,\n",
              "             'Data Breach/Theft': 484,\n",
              "             'Cheating by Impersonation': 1988,\n",
              "             'Denial of Service (DoS)/Distributed Denial of Service (DDOS) attacks': 504,\n",
              "             'FakeImpersonating Profile': 2299,\n",
              "             'Cryptocurrency Fraud': 480,\n",
              "             'Malware Attack': 521,\n",
              "             'Business Email CompromiseEmail Takeover': 290,\n",
              "             'Email Hacking': 349,\n",
              "             'Hacking/Defacement': 540,\n",
              "             'Unauthorised AccessData Breach': 1114,\n",
              "             'SQL Injection': 508,\n",
              "             'Provocative Speech for unlawful acts': 417,\n",
              "             'Ransomware Attack': 534,\n",
              "             'Cyber Terrorism': 161,\n",
              "             'Tampering with computer source documents': 567,\n",
              "             'DematDepository Fraud': 761,\n",
              "             'Online Trafficking': 183,\n",
              "             'Online Matrimonial Fraud': 132,\n",
              "             'Website DefacementHacking': 89,\n",
              "             'Damage to computer computer systems etc': 108,\n",
              "             'Impersonating Email': 44,\n",
              "             'EMail Phishing': 157,\n",
              "             'Ransomware': 56,\n",
              "             'Intimidating Email': 29,\n",
              "             'Against Interest of sovereignty or integrity of India': 1})"
            ]
          },
          "metadata": {},
          "execution_count": 18
        }
      ]
    },
    {
      "cell_type": "code",
      "source": [
        "category_to_subcategory_map"
      ],
      "metadata": {
        "colab": {
          "base_uri": "https://localhost:8080/"
        },
        "id": "KFfAigxGKYpR",
        "outputId": "dc534507-95f9-44a9-baa2-4d3f1e72b5e7"
      },
      "execution_count": null,
      "outputs": [
        {
          "output_type": "execute_result",
          "data": {
            "text/plain": [
              "defaultdict(set,\n",
              "            {'Online and Social Media Related Crime': {'Cheating by Impersonation',\n",
              "              'Cyber Bullying  Stalking  Sexting',\n",
              "              'EMail Phishing',\n",
              "              'FakeImpersonating Profile',\n",
              "              'Impersonating Email',\n",
              "              'Intimidating Email',\n",
              "              'Online Job Fraud',\n",
              "              'Online Matrimonial Fraud',\n",
              "              'Profile Hacking Identity Theft',\n",
              "              'Provocative Speech for unlawful acts'},\n",
              "             'Online Financial Fraud': {'Business Email CompromiseEmail Takeover',\n",
              "              'DebitCredit Card FraudSim Swap Fraud',\n",
              "              'DematDepository Fraud',\n",
              "              'EWallet Related Fraud',\n",
              "              'Fraud CallVishing',\n",
              "              'Internet Banking Related Fraud',\n",
              "              'UPI Related Frauds'},\n",
              "             'Online Gambling  Betting': {'Online Gambling  Betting'},\n",
              "             'RapeGang Rape RGRSexually Abusive Content': {nan},\n",
              "             'Any Other Cyber Crime': {'Other'},\n",
              "             'Cyber Attack/ Dependent Crimes': {'Data Breach/Theft',\n",
              "              'Denial of Service (DoS)/Distributed Denial of Service (DDOS) attacks',\n",
              "              'Hacking/Defacement',\n",
              "              'Malware Attack',\n",
              "              'Ransomware Attack',\n",
              "              'SQL Injection',\n",
              "              'Tampering with computer source documents'},\n",
              "             'Cryptocurrency Crime': {'Cryptocurrency Fraud'},\n",
              "             'Sexually Explicit Act': {nan},\n",
              "             'Sexually Obscene material': {nan},\n",
              "             'Hacking  Damage to computercomputer system etc': {'Damage to computer computer systems etc',\n",
              "              'Email Hacking',\n",
              "              'Tampering with computer source documents',\n",
              "              'Unauthorised AccessData Breach',\n",
              "              'Website DefacementHacking'},\n",
              "             'Cyber Terrorism': {'Cyber Terrorism'},\n",
              "             'Child Pornography CPChild Sexual Abuse Material CSAM': {nan},\n",
              "             'Online Cyber Trafficking': {'Online Trafficking'},\n",
              "             'Ransomware': {'Ransomware'},\n",
              "             'Report Unlawful Content': {'Against Interest of sovereignty or integrity of India'}})"
            ]
          },
          "metadata": {},
          "execution_count": 16
        }
      ]
    },
    {
      "cell_type": "code",
      "source": [
        "category_subcategory_list = [['Report Unlawful Content', 'Against Interest of sovereignty or integrity of India'], ['Ransomware', 'Ransomware'], ['Online and Social Media Related Crime', 'Intimidating Email'],\n",
        "                             ['Online and Social Media Related Crime', 'EMail Phishing'], ['Online and Social Media Related Crime', 'Impersonating Email'], ['Hacking  Damage to computercomputer system etc', 'Damage to computer computer systems etc'],\n",
        "                             ['Hacking  Damage to computercomputer system etc', 'Website DefacementHacking'], ['Online and Social Media Related Crime', 'Online Matrimonial Fraud'],\n",
        "                             ['Online Cyber Trafficking', 'Online Trafficking'], ['Cyber Terrorism', 'Cyber Terrorism'], ['Online and Social Media Related Crime', 'Provocative Speech for unlawful acts'],\n",
        "                             ['Hacking  Damage to computercomputer system etc', 'Email Hacking'], ['Online Financial Fraud', 'Business Email CompromiseEmail Takeover'], ['Online Gambling  Betting', 'Online Gambling  Betting'],\n",
        "                             ['Child Pornography CPChild Sexual Abuse Material CSAM']]"
      ],
      "metadata": {
        "id": "zV-Nu-J_KYh6"
      },
      "execution_count": null,
      "outputs": []
    },
    {
      "cell_type": "markdown",
      "source": [
        "## Generate Messages for underrepresented classes"
      ],
      "metadata": {
        "id": "hMxCpIUbmC-q"
      }
    },
    {
      "cell_type": "code",
      "source": [
        "sample_messages_for_category = []\n",
        "\n",
        "for i in category_subcategory_list:\n",
        "  if len(i) == 1:\n",
        "    category = i[0]\n",
        "\n",
        "    subset_df = df[df['category'] == category]\n",
        "    subset_df = subset_df.sample(frac = 1)\n",
        "    sample_sentences = list(subset_df[\"crimeaditionalinfo\"])\n",
        "\n",
        "    if len(sample_sentences) > 10:\n",
        "      sample_sentences = sample_sentences[:10]\n",
        "\n",
        "  if len(i) == 2:\n",
        "    category = i[0]\n",
        "    subcategory = i[1]\n",
        "\n",
        "    subset_df = df[df['category'] == category]\n",
        "    subset_df = subset_df[subset_df['sub_category'] == subcategory]\n",
        "    subset_df = subset_df.sample(frac = 1)\n",
        "    sample_sentences = list(subset_df[\"crimeaditionalinfo\"])\n",
        "\n",
        "    if len(sample_sentences) > 10:\n",
        "      sample_sentences = sample_sentences[:10]\n",
        "\n",
        "  sample_messages_for_category.append(sample_sentences)"
      ],
      "metadata": {
        "id": "1UsVx5ePX3L0"
      },
      "execution_count": null,
      "outputs": []
    },
    {
      "cell_type": "code",
      "source": [
        "from langchain_core.prompts import PromptTemplate\n",
        "from langchain_openai import ChatOpenAI\n",
        "from langchain_core.output_parsers import JsonOutputParser"
      ],
      "metadata": {
        "id": "SsvlUW9zIV4A"
      },
      "execution_count": null,
      "outputs": []
    },
    {
      "cell_type": "code",
      "source": [
        "prompt = PromptTemplate(\n",
        "            template=GENERATE_EXAMPLES_PROMPT,\n",
        "            input_variables=[\"category\", \"subcategory\", \"sample_messages\"])\n",
        "\n",
        "llm = ChatOpenAI(model=\"gpt-4o-mini\", temperature=0.2)\n",
        "chain = prompt | llm"
      ],
      "metadata": {
        "id": "IqP9j7hZBvK0"
      },
      "execution_count": null,
      "outputs": []
    },
    {
      "cell_type": "code",
      "source": [
        "synthetic_generated_messages = []\n",
        "\n",
        "for i in range(len(category_subcategory_list)):\n",
        "  print(i)\n",
        "\n",
        "  if len(category_subcategory_list[i]) == 1:\n",
        "    category = category_subcategory_list[i][0]\n",
        "    subcategory = category\n",
        "  if len(category_subcategory_list[i]) == 2:\n",
        "    category = category_subcategory_list[i][0]\n",
        "    subcategory = category_subcategory_list[i][1]\n",
        "\n",
        "  sample_messages = sample_messages_for_category[i]\n",
        "\n",
        "  params = {\"category\": category, \"subcategory\": subcategory, \"sample_messages\": sample_messages}\n",
        "  response = chain.invoke(params)\n",
        "\n",
        "  messages = str(response.content)\n",
        "\n",
        "  synthetic_generated_messages.append(messages)"
      ],
      "metadata": {
        "id": "55zbVWQ3PZJ4"
      },
      "execution_count": null,
      "outputs": []
    },
    {
      "cell_type": "code",
      "source": [
        "prompt_2 = PromptTemplate(\n",
        "            template=GENERATE_EXAMPLES_PROMPT_2,\n",
        "            input_variables=[\"category\", \"subcategory\", \"sample_messages\"])\n",
        "\n",
        "llm = ChatOpenAI(model=\"gpt-4o-mini\", temperature=0.2)\n",
        "chain2 = prompt_2 | llm"
      ],
      "metadata": {
        "id": "gTydUHyPPczM"
      },
      "execution_count": null,
      "outputs": []
    },
    {
      "cell_type": "code",
      "source": [
        "synthetic_generated_messages_2 = []\n",
        "\n",
        "for i in range(len(category_subcategory_list)):\n",
        "  print(i)\n",
        "\n",
        "  if len(category_subcategory_list[i]) == 1:\n",
        "    category = category_subcategory_list[i][0]\n",
        "    subcategory = category\n",
        "  if len(category_subcategory_list[i]) == 2:\n",
        "    category = category_subcategory_list[i][0]\n",
        "    subcategory = category_subcategory_list[i][1]\n",
        "\n",
        "  sample_messages = sample_messages_for_category[i]\n",
        "\n",
        "  params = {\"category\": category, \"subcategory\": subcategory, \"sample_messages\": sample_messages}\n",
        "  response = chain2.invoke(params)\n",
        "\n",
        "  messages = str(response.content)\n",
        "\n",
        "  synthetic_generated_messages_2.append(messages)"
      ],
      "metadata": {
        "colab": {
          "base_uri": "https://localhost:8080/"
        },
        "id": "YGRENqWJbOJ8",
        "outputId": "90142711-caa7-493e-c7bb-2f724c7f94d9"
      },
      "execution_count": null,
      "outputs": [
        {
          "output_type": "stream",
          "name": "stdout",
          "text": [
            "0\n",
            "1\n",
            "2\n",
            "3\n",
            "4\n",
            "5\n",
            "6\n",
            "7\n",
            "8\n",
            "9\n",
            "10\n",
            "11\n",
            "12\n",
            "13\n",
            "14\n"
          ]
        }
      ]
    },
    {
      "cell_type": "code",
      "source": [
        "category_subcategory_list[11]"
      ],
      "metadata": {
        "colab": {
          "base_uri": "https://localhost:8080/"
        },
        "id": "4XguQQ9kcQdF",
        "outputId": "caeb830a-eef4-40d6-cebb-c3200d9a507f"
      },
      "execution_count": null,
      "outputs": [
        {
          "output_type": "execute_result",
          "data": {
            "text/plain": [
              "['Hacking  Damage to computercomputer system etc', 'Email Hacking']"
            ]
          },
          "metadata": {},
          "execution_count": 26
        }
      ]
    },
    {
      "cell_type": "markdown",
      "source": [
        "## Parse the AI generated Text to extract Messages"
      ],
      "metadata": {
        "id": "jBdpxnnHl8m2"
      }
    },
    {
      "cell_type": "code",
      "source": [
        "def parse_messages(input_string):\n",
        "    \"\"\"\n",
        "    Parse messages from a formatted string into a list.\n",
        "\n",
        "    Args:\n",
        "        input_string (str): String containing messages in the format:\n",
        "            \"*** Messages ### Message 1 [content] ### Message 2 [content] ...\"\n",
        "\n",
        "    Returns:\n",
        "        list: List of message strings, with each element containing the content of one message\n",
        "    \"\"\"\n",
        "    # Remove the initial \"*** Messages\" header if present\n",
        "    if input_string.startswith(\"*** Messages\"):\n",
        "        input_string = input_string.replace(\"*** Messages\", \"\", 1)\n",
        "\n",
        "    # Split the string on \"### Message\" markers\n",
        "    parts = input_string.split(\"### Message\")\n",
        "\n",
        "    # Remove empty strings and strip whitespace\n",
        "    messages = [part.strip() for part in parts if part.strip()]\n",
        "\n",
        "    # Remove the message number from the beginning of each message\n",
        "    messages = [' '.join(msg.split()[1:]) for msg in messages]\n",
        "\n",
        "    return messages"
      ],
      "metadata": {
        "id": "46oSVFNnBhEG"
      },
      "execution_count": null,
      "outputs": []
    },
    {
      "cell_type": "code",
      "source": [
        "len(parse_messages(synthetic_generated_messages_2[0]))"
      ],
      "metadata": {
        "colab": {
          "base_uri": "https://localhost:8080/"
        },
        "id": "wI2hpn7ZGj_Z",
        "outputId": "e7b8b9e3-eda3-43be-af2e-75152cf65f08"
      },
      "execution_count": null,
      "outputs": [
        {
          "output_type": "execute_result",
          "data": {
            "text/plain": [
              "50"
            ]
          },
          "metadata": {},
          "execution_count": 40
        }
      ]
    },
    {
      "cell_type": "code",
      "source": [
        "all_generated_messages = {\"category\": [], \"sub_category\": [], \"crimeaditionalinfo\": []}\n",
        "\n",
        "for i in range(len(category_subcategory_list)):\n",
        "  if len(category_subcategory_list[i]) == 1:\n",
        "    category = category_subcategory_list[i][0]\n",
        "    subcategory = None\n",
        "  if len(category_subcategory_list[i]) == 2:\n",
        "    category = category_subcategory_list[i][0]\n",
        "    subcategory = category_subcategory_list[i][1]\n",
        "\n",
        "  generated_msg_1 = parse_messages(synthetic_generated_messages[i])\n",
        "  generated_msg_2 = parse_messages(synthetic_generated_messages_2[i])\n",
        "  total_generated_msg = generated_msg_1 + generated_msg_2\n",
        "\n",
        "  num_generated_msg = len(total_generated_msg)\n",
        "\n",
        "  category_list = [category]*num_generated_msg\n",
        "  subcategory_list = [subcategory]*num_generated_msg\n",
        "\n",
        "  all_generated_messages[\"category\"].extend(category_list)\n",
        "  all_generated_messages[\"sub_category\"].extend(subcategory_list)\n",
        "  all_generated_messages[\"crimeaditionalinfo\"].extend(total_generated_msg)"
      ],
      "metadata": {
        "id": "UgIi1dvzGoZU"
      },
      "execution_count": null,
      "outputs": []
    },
    {
      "cell_type": "markdown",
      "source": [
        "## Create Synthetic Dataset (CSV File)"
      ],
      "metadata": {
        "id": "6tCP7k0AlzHg"
      }
    },
    {
      "cell_type": "code",
      "source": [
        "synthetic_train_df = pd.DataFrame(all_generated_messages)"
      ],
      "metadata": {
        "id": "EIjyZpFsJjKL"
      },
      "execution_count": null,
      "outputs": []
    },
    {
      "cell_type": "code",
      "source": [
        "synthetic_train_df = synthetic_train_df.sample(frac=1)"
      ],
      "metadata": {
        "id": "YpdIKbFNK6QZ"
      },
      "execution_count": null,
      "outputs": []
    },
    {
      "cell_type": "code",
      "source": [
        "len(synthetic_train_df)"
      ],
      "metadata": {
        "colab": {
          "base_uri": "https://localhost:8080/"
        },
        "id": "dkAwcD-NLHDj",
        "outputId": "c06853db-8c3f-48ca-c69d-1c1541a482e7"
      },
      "execution_count": null,
      "outputs": [
        {
          "output_type": "execute_result",
          "data": {
            "text/plain": [
              "1500"
            ]
          },
          "metadata": {},
          "execution_count": 49
        }
      ]
    },
    {
      "cell_type": "code",
      "source": [
        "synthetic_train_df.to_csv(\"synthetic_train.csv\")"
      ],
      "metadata": {
        "id": "leiCJkABLNTR"
      },
      "execution_count": null,
      "outputs": []
    },
    {
      "cell_type": "code",
      "source": [],
      "metadata": {
        "id": "Qm2jCLukLpnp"
      },
      "execution_count": null,
      "outputs": []
    }
  ]
}